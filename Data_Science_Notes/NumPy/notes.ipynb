{
 "cells": [
  {
   "cell_type": "markdown",
   "id": "65cd0319",
   "metadata": {},
   "source": [
    "# Notes on NumPy"
   ]
  },
  {
   "cell_type": "markdown",
   "id": "65767689",
   "metadata": {},
   "source": [
    "### Import numpy"
   ]
  },
  {
   "cell_type": "code",
   "execution_count": 1,
   "id": "66a618cb",
   "metadata": {},
   "outputs": [],
   "source": [
    "import numpy as np"
   ]
  },
  {
   "cell_type": "markdown",
   "id": "3d4b1e21",
   "metadata": {},
   "source": [
    "### Create a 1-dimensional NumPy array using np.array()"
   ]
  },
  {
   "cell_type": "code",
   "execution_count": 2,
   "id": "f45aa7f5",
   "metadata": {},
   "outputs": [
    {
     "data": {
      "text/plain": [
       "array([1, 2, 3])"
      ]
     },
     "execution_count": 2,
     "metadata": {},
     "output_type": "execute_result"
    }
   ],
   "source": [
    "oneD = np.array([1, 2, 3])\n",
    "oneD"
   ]
  },
  {
   "cell_type": "markdown",
   "id": "ca6a3944",
   "metadata": {},
   "source": [
    "### Create a 2-dimensional NumPy array using np.array()"
   ]
  },
  {
   "cell_type": "code",
   "execution_count": 4,
   "id": "60a76271",
   "metadata": {},
   "outputs": [
    {
     "data": {
      "text/plain": [
       "array([[1, 2, 3],\n",
       "       [4, 5, 6]])"
      ]
     },
     "execution_count": 4,
     "metadata": {},
     "output_type": "execute_result"
    }
   ],
   "source": [
    "twoD = np.array([\n",
    "    [1, 2, 3],\n",
    "    [4, 5, 6]\n",
    "])\n",
    "twoD"
   ]
  },
  {
   "cell_type": "markdown",
   "id": "5a1a00cb",
   "metadata": {},
   "source": [
    "### Create a 3-dimensional NumPy array using np.array()"
   ]
  },
  {
   "cell_type": "code",
   "execution_count": 5,
   "id": "d8b56f49",
   "metadata": {},
   "outputs": [
    {
     "data": {
      "text/plain": [
       "array([[[ 1,  2,  3],\n",
       "        [ 4,  5,  6],\n",
       "        [ 7,  8,  9]],\n",
       "\n",
       "       [[10, 11, 12],\n",
       "        [13, 14, 15],\n",
       "        [16, 17, 18]]])"
      ]
     },
     "execution_count": 5,
     "metadata": {},
     "output_type": "execute_result"
    }
   ],
   "source": [
    "threeD = np.array([\n",
    "    [\n",
    "        [1, 2, 3],\n",
    "        [4, 5, 6],\n",
    "        [7, 8, 9]\n",
    "    ],\n",
    "    [\n",
    "        [10, 11, 12],\n",
    "        [13, 14, 15],\n",
    "        [16, 17, 18]\n",
    "    ]\n",
    "])\n",
    "threeD"
   ]
  },
  {
   "cell_type": "markdown",
   "id": "6e1afe0a",
   "metadata": {},
   "source": [
    "### Attributes of 1-dimensional array\n",
    "##### (shape, number of dimensions, data type, size and type)"
   ]
  },
  {
   "cell_type": "code",
   "execution_count": 7,
   "id": "ced6fa40",
   "metadata": {},
   "outputs": [
    {
     "data": {
      "text/plain": [
       "((3,), 1, dtype('int32'), 3, numpy.ndarray)"
      ]
     },
     "execution_count": 7,
     "metadata": {},
     "output_type": "execute_result"
    }
   ],
   "source": [
    "oneD.shape, oneD.ndim, oneD.dtype, oneD.size, type(oneD)"
   ]
  },
  {
   "cell_type": "markdown",
   "id": "75af25b3",
   "metadata": {},
   "source": [
    "### Attributes of 2-dimensional array\n",
    "##### (shape, number of dimensions, data type, size and type)"
   ]
  },
  {
   "cell_type": "code",
   "execution_count": 8,
   "id": "0de5c4f9",
   "metadata": {},
   "outputs": [
    {
     "data": {
      "text/plain": [
       "((2, 3), 2, dtype('int32'), 6, numpy.ndarray)"
      ]
     },
     "execution_count": 8,
     "metadata": {},
     "output_type": "execute_result"
    }
   ],
   "source": [
    "twoD.shape, twoD.ndim, twoD.dtype, twoD.size, type(twoD)"
   ]
  },
  {
   "cell_type": "markdown",
   "id": "f2d305ef",
   "metadata": {},
   "source": [
    "### Attributes of 3-dimensional array\n",
    "##### (shape, number of dimensions, data type, size and type)"
   ]
  },
  {
   "cell_type": "code",
   "execution_count": 9,
   "id": "0cb77fce",
   "metadata": {},
   "outputs": [
    {
     "data": {
      "text/plain": [
       "((2, 3, 3), 3, dtype('int32'), 18, numpy.ndarray)"
      ]
     },
     "execution_count": 9,
     "metadata": {},
     "output_type": "execute_result"
    }
   ],
   "source": [
    "threeD.shape, threeD.ndim, threeD.dtype, threeD.size, type(threeD)"
   ]
  },
  {
   "cell_type": "markdown",
   "id": "8eb5adee",
   "metadata": {},
   "source": [
    "### Import Pandas"
   ]
  },
  {
   "cell_type": "code",
   "execution_count": 10,
   "id": "5766e7ab",
   "metadata": {},
   "outputs": [],
   "source": [
    "import pandas as pd"
   ]
  },
  {
   "cell_type": "markdown",
   "id": "553588d8",
   "metadata": {},
   "source": [
    "### Create a DataFrame out of one of the arrays you've created"
   ]
  },
  {
   "cell_type": "code",
   "execution_count": 17,
   "id": "ac42a3d8",
   "metadata": {},
   "outputs": [
    {
     "data": {
      "text/html": [
       "<div>\n",
       "<style scoped>\n",
       "    .dataframe tbody tr th:only-of-type {\n",
       "        vertical-align: middle;\n",
       "    }\n",
       "\n",
       "    .dataframe tbody tr th {\n",
       "        vertical-align: top;\n",
       "    }\n",
       "\n",
       "    .dataframe thead th {\n",
       "        text-align: right;\n",
       "    }\n",
       "</style>\n",
       "<table border=\"1\" class=\"dataframe\">\n",
       "  <thead>\n",
       "    <tr style=\"text-align: right;\">\n",
       "      <th></th>\n",
       "      <th>0</th>\n",
       "      <th>1</th>\n",
       "      <th>2</th>\n",
       "    </tr>\n",
       "  </thead>\n",
       "  <tbody>\n",
       "    <tr>\n",
       "      <th>0</th>\n",
       "      <td>1</td>\n",
       "      <td>2</td>\n",
       "      <td>3</td>\n",
       "    </tr>\n",
       "    <tr>\n",
       "      <th>1</th>\n",
       "      <td>4</td>\n",
       "      <td>5</td>\n",
       "      <td>6</td>\n",
       "    </tr>\n",
       "  </tbody>\n",
       "</table>\n",
       "</div>"
      ],
      "text/plain": [
       "   0  1  2\n",
       "0  1  2  3\n",
       "1  4  5  6"
      ]
     },
     "execution_count": 17,
     "metadata": {},
     "output_type": "execute_result"
    }
   ],
   "source": [
    "twoD_df = pd.DataFrame(twoD)\n",
    "twoD_df"
   ]
  },
  {
   "cell_type": "markdown",
   "id": "a00ed399",
   "metadata": {},
   "source": [
    "### Create an array of shape (10, 2) with only ones"
   ]
  },
  {
   "cell_type": "code",
   "execution_count": 21,
   "id": "6953405f",
   "metadata": {},
   "outputs": [
    {
     "data": {
      "text/plain": [
       "array([[1, 1],\n",
       "       [1, 1],\n",
       "       [1, 1],\n",
       "       [1, 1],\n",
       "       [1, 1],\n",
       "       [1, 1],\n",
       "       [1, 1],\n",
       "       [1, 1],\n",
       "       [1, 1],\n",
       "       [1, 1]])"
      ]
     },
     "execution_count": 21,
     "metadata": {},
     "output_type": "execute_result"
    }
   ],
   "source": [
    "ones = np.ones((10, 2), dtype = int)\n",
    "ones"
   ]
  },
  {
   "cell_type": "markdown",
   "id": "50871fad",
   "metadata": {},
   "source": [
    "### Create an array of shape (7, 2, 3) of only zeros"
   ]
  },
  {
   "cell_type": "code",
   "execution_count": 23,
   "id": "924bd05b",
   "metadata": {},
   "outputs": [
    {
     "data": {
      "text/plain": [
       "array([[[0., 0., 0.],\n",
       "        [0., 0., 0.]],\n",
       "\n",
       "       [[0., 0., 0.],\n",
       "        [0., 0., 0.]],\n",
       "\n",
       "       [[0., 0., 0.],\n",
       "        [0., 0., 0.]],\n",
       "\n",
       "       [[0., 0., 0.],\n",
       "        [0., 0., 0.]],\n",
       "\n",
       "       [[0., 0., 0.],\n",
       "        [0., 0., 0.]],\n",
       "\n",
       "       [[0., 0., 0.],\n",
       "        [0., 0., 0.]],\n",
       "\n",
       "       [[0., 0., 0.],\n",
       "        [0., 0., 0.]]])"
      ]
     },
     "execution_count": 23,
     "metadata": {},
     "output_type": "execute_result"
    }
   ],
   "source": [
    "zeros = np.zeros((7, 2, 3))\n",
    "zeros"
   ]
  },
  {
   "cell_type": "markdown",
   "id": "b2c86224",
   "metadata": {},
   "source": [
    "### Create an array within a range of 0 and 100 with step 3"
   ]
  },
  {
   "cell_type": "code",
   "execution_count": 24,
   "id": "6abbb8df",
   "metadata": {},
   "outputs": [
    {
     "data": {
      "text/plain": [
       "array([ 0,  3,  6,  9, 12, 15, 18, 21, 24, 27, 30, 33, 36, 39, 42, 45, 48,\n",
       "       51, 54, 57, 60, 63, 66, 69, 72, 75, 78, 81, 84, 87, 90, 93, 96, 99])"
      ]
     },
     "execution_count": 24,
     "metadata": {},
     "output_type": "execute_result"
    }
   ],
   "source": [
    "range = np.arange(0, 100, 3)\n",
    "range"
   ]
  },
  {
   "cell_type": "markdown",
   "id": "dbd7979d",
   "metadata": {},
   "source": [
    "### Create a random array with numbers between 0 and 10 of size (7, 2)"
   ]
  },
  {
   "cell_type": "code",
   "execution_count": 33,
   "id": "7534bbcb",
   "metadata": {},
   "outputs": [
    {
     "data": {
      "text/plain": [
       "array([[5, 1],\n",
       "       [3, 2],\n",
       "       [7, 0],\n",
       "       [7, 6],\n",
       "       [1, 3],\n",
       "       [9, 8],\n",
       "       [1, 5]])"
      ]
     },
     "execution_count": 33,
     "metadata": {},
     "output_type": "execute_result"
    }
   ],
   "source": [
    "randomI = np.random.randint(0, 10, size = (7, 2))\n",
    "randomI"
   ]
  },
  {
   "cell_type": "markdown",
   "id": "6cfc02af",
   "metadata": {},
   "source": [
    "### Create a random array of floats between 0 & 1 of shape (3, 5)"
   ]
  },
  {
   "cell_type": "code",
   "execution_count": 32,
   "id": "881f85e9",
   "metadata": {},
   "outputs": [
    {
     "data": {
      "text/plain": [
       "array([[0.15308406, 0.15642384, 0.91633543, 0.52941612, 0.96407373],\n",
       "       [0.51997152, 0.04770804, 0.38929171, 0.24141845, 0.78846288],\n",
       "       [0.26187021, 0.99043701, 0.91547527, 0.78431829, 0.38469824]])"
      ]
     },
     "execution_count": 32,
     "metadata": {},
     "output_type": "execute_result"
    }
   ],
   "source": [
    "randomF = np.random.rand(3, 5)\n",
    "randomF"
   ]
  },
  {
   "cell_type": "markdown",
   "id": "c882fe83",
   "metadata": {},
   "source": [
    "### Set the random seed to 42 & Create a random array of numbers between 0 & 10 of size (4, 6)"
   ]
  },
  {
   "cell_type": "code",
   "execution_count": 35,
   "id": "db9b6d7a",
   "metadata": {},
   "outputs": [
    {
     "data": {
      "text/plain": [
       "array([[6, 3, 7, 4, 6, 9],\n",
       "       [2, 6, 7, 4, 3, 7],\n",
       "       [7, 2, 5, 4, 1, 7],\n",
       "       [5, 1, 4, 0, 9, 5]])"
      ]
     },
     "execution_count": 35,
     "metadata": {},
     "output_type": "execute_result"
    }
   ],
   "source": [
    "np.random.seed(42)\n",
    "randomA = np.random.randint(0, 10, size = (4, 6))\n",
    "randomA"
   ]
  },
  {
   "cell_type": "markdown",
   "id": "850c07cd",
   "metadata": {},
   "source": [
    "### Create an array of random numbers between 1 & 10 of size (3, 7)"
   ]
  },
  {
   "cell_type": "code",
   "execution_count": 39,
   "id": "eef0df11",
   "metadata": {},
   "outputs": [
    {
     "data": {
      "text/plain": [
       "array([[2, 5, 8, 9, 9, 1, 9],\n",
       "       [7, 9, 8, 1, 8, 8, 3],\n",
       "       [1, 8, 3, 3, 1, 5, 7]])"
      ]
     },
     "execution_count": 39,
     "metadata": {},
     "output_type": "execute_result"
    }
   ],
   "source": [
    "randomA2 = np.random.randint(1, 10, size = (3, 7))\n",
    "randomA2"
   ]
  },
  {
   "cell_type": "markdown",
   "id": "763bb839",
   "metadata": {},
   "source": [
    "### Find the unique numbers in it"
   ]
  },
  {
   "cell_type": "code",
   "execution_count": 38,
   "id": "5c376a23",
   "metadata": {},
   "outputs": [
    {
     "data": {
      "text/plain": [
       "array([1, 2, 3, 4, 5, 6, 7, 8, 9])"
      ]
     },
     "execution_count": 38,
     "metadata": {},
     "output_type": "execute_result"
    }
   ],
   "source": [
    "np.unique(randomA2)"
   ]
  },
  {
   "cell_type": "markdown",
   "id": "24129a4d",
   "metadata": {},
   "source": [
    "### Find the 0'th index of the latest array you created"
   ]
  },
  {
   "cell_type": "code",
   "execution_count": 40,
   "id": "2a4456ff",
   "metadata": {},
   "outputs": [
    {
     "data": {
      "text/plain": [
       "array([2, 5, 8, 9, 9, 1, 9])"
      ]
     },
     "execution_count": 40,
     "metadata": {},
     "output_type": "execute_result"
    }
   ],
   "source": [
    "randomA2[0]"
   ]
  },
  {
   "cell_type": "markdown",
   "id": "dc423bf2",
   "metadata": {},
   "source": [
    "### Get the first 2 rows of latest array you created"
   ]
  },
  {
   "cell_type": "code",
   "execution_count": 42,
   "id": "b20fe3b8",
   "metadata": {},
   "outputs": [
    {
     "data": {
      "text/plain": [
       "array([[2, 5, 8, 9, 9, 1, 9],\n",
       "       [7, 9, 8, 1, 8, 8, 3]])"
      ]
     },
     "execution_count": 42,
     "metadata": {},
     "output_type": "execute_result"
    }
   ],
   "source": [
    "randomA2[:2]"
   ]
  },
  {
   "cell_type": "markdown",
   "id": "1fd2e3c7",
   "metadata": {},
   "source": [
    "### Get the first 2 values of the first 2 rows of the latest array"
   ]
  },
  {
   "cell_type": "code",
   "execution_count": 57,
   "id": "d47c180b",
   "metadata": {},
   "outputs": [
    {
     "data": {
      "text/plain": [
       "array([[2, 5],\n",
       "       [7, 9]])"
      ]
     },
     "execution_count": 57,
     "metadata": {},
     "output_type": "execute_result"
    }
   ],
   "source": [
    "randomA2[0:2, 0:2]"
   ]
  },
  {
   "cell_type": "markdown",
   "id": "0c590d45",
   "metadata": {},
   "source": [
    "### Create a random array of numbers between 0 & 10 and an array of ones both of size (3, 5)"
   ]
  },
  {
   "cell_type": "code",
   "execution_count": 67,
   "id": "29d68849",
   "metadata": {},
   "outputs": [
    {
     "data": {
      "text/plain": [
       "(array([[2, 0, 4, 0, 7],\n",
       "        [0, 0, 1, 1, 5],\n",
       "        [6, 4, 0, 0, 2]]),\n",
       " array([[1, 1, 1, 1, 1],\n",
       "        [1, 1, 1, 1, 1],\n",
       "        [1, 1, 1, 1, 1]]))"
      ]
     },
     "execution_count": 67,
     "metadata": {},
     "output_type": "execute_result"
    }
   ],
   "source": [
    "randomA3 = np.random.randint(0, 10, size = (3, 5))\n",
    "ones2 = np.ones((3, 5), dtype = int)\n",
    "randomA3, ones2"
   ]
  },
  {
   "cell_type": "markdown",
   "id": "f895856e",
   "metadata": {},
   "source": [
    "### Add the two arrays together"
   ]
  },
  {
   "cell_type": "code",
   "execution_count": 68,
   "id": "43062bdb",
   "metadata": {},
   "outputs": [
    {
     "data": {
      "text/plain": [
       "array([[3, 1, 5, 1, 8],\n",
       "       [1, 1, 2, 2, 6],\n",
       "       [7, 5, 1, 1, 3]])"
      ]
     },
     "execution_count": 68,
     "metadata": {},
     "output_type": "execute_result"
    }
   ],
   "source": [
    "randomA3 + ones2"
   ]
  },
  {
   "cell_type": "markdown",
   "id": "f187b926",
   "metadata": {},
   "source": [
    "### Create another array of ones of shape (5, 3)"
   ]
  },
  {
   "cell_type": "code",
   "execution_count": 70,
   "id": "dc55ab30",
   "metadata": {},
   "outputs": [
    {
     "data": {
      "text/plain": [
       "array([[1, 1, 1],\n",
       "       [1, 1, 1],\n",
       "       [1, 1, 1],\n",
       "       [1, 1, 1],\n",
       "       [1, 1, 1]])"
      ]
     },
     "execution_count": 70,
     "metadata": {},
     "output_type": "execute_result"
    }
   ],
   "source": [
    "ones3 = np.ones((5, 3), dtype = int)\n",
    "ones3"
   ]
  },
  {
   "cell_type": "markdown",
   "id": "bc395c74",
   "metadata": {},
   "source": [
    "### Try add the array of ones and the other most recent array together"
   ]
  },
  {
   "cell_type": "code",
   "execution_count": 71,
   "id": "d5b020a3",
   "metadata": {},
   "outputs": [
    {
     "ename": "ValueError",
     "evalue": "operands could not be broadcast together with shapes (3,5) (5,3) ",
     "output_type": "error",
     "traceback": [
      "\u001b[1;31m---------------------------------------------------------------------------\u001b[0m",
      "\u001b[1;31mValueError\u001b[0m                                Traceback (most recent call last)",
      "\u001b[1;32mC:\\Users\\SHAHAD~1\\AppData\\Local\\Temp/ipykernel_6808/1884396791.py\u001b[0m in \u001b[0;36m<module>\u001b[1;34m\u001b[0m\n\u001b[1;32m----> 1\u001b[1;33m \u001b[0mrandomA3\u001b[0m \u001b[1;33m+\u001b[0m \u001b[0mones3\u001b[0m\u001b[1;33m\u001b[0m\u001b[1;33m\u001b[0m\u001b[0m\n\u001b[0m",
      "\u001b[1;31mValueError\u001b[0m: operands could not be broadcast together with shapes (3,5) (5,3) "
     ]
    }
   ],
   "source": [
    "randomA3 + ones3"
   ]
  },
  {
   "cell_type": "markdown",
   "id": "81594788",
   "metadata": {},
   "source": [
    "##### Why didn't it work? Can you think of a solution?\n",
    "1. operands could not be broadcast together with shapes (3,5) (5,3)"
   ]
  },
  {
   "cell_type": "markdown",
   "id": "5ef1ff72",
   "metadata": {},
   "source": [
    "### Create another array of ones of shape (3, 5)"
   ]
  },
  {
   "cell_type": "code",
   "execution_count": 72,
   "id": "9ca4a8dd",
   "metadata": {},
   "outputs": [
    {
     "data": {
      "text/plain": [
       "array([[1, 1, 1, 1, 1],\n",
       "       [1, 1, 1, 1, 1],\n",
       "       [1, 1, 1, 1, 1]])"
      ]
     },
     "execution_count": 72,
     "metadata": {},
     "output_type": "execute_result"
    }
   ],
   "source": [
    "ones4 = np.ones((3, 5), dtype = int)\n",
    "ones4"
   ]
  },
  {
   "cell_type": "markdown",
   "id": "9c592229",
   "metadata": {},
   "source": [
    "### Subtract the new array of ones from the other most recent array"
   ]
  },
  {
   "cell_type": "code",
   "execution_count": 73,
   "id": "49885d1e",
   "metadata": {},
   "outputs": [
    {
     "data": {
      "text/plain": [
       "array([[ 1, -1,  3, -1,  6],\n",
       "       [-1, -1,  0,  0,  4],\n",
       "       [ 5,  3, -1, -1,  1]])"
      ]
     },
     "execution_count": 73,
     "metadata": {},
     "output_type": "execute_result"
    }
   ],
   "source": [
    "randomA3 - ones4"
   ]
  },
  {
   "cell_type": "markdown",
   "id": "a824f202",
   "metadata": {},
   "source": [
    "### Multiply the ones array with the latest array"
   ]
  },
  {
   "cell_type": "code",
   "execution_count": 74,
   "id": "ac45ff8b",
   "metadata": {},
   "outputs": [
    {
     "data": {
      "text/plain": [
       "array([[2, 0, 4, 0, 7],\n",
       "       [0, 0, 1, 1, 5],\n",
       "       [6, 4, 0, 0, 2]])"
      ]
     },
     "execution_count": 74,
     "metadata": {},
     "output_type": "execute_result"
    }
   ],
   "source": [
    "randomA3 * ones4"
   ]
  },
  {
   "cell_type": "markdown",
   "id": "905c7cb2",
   "metadata": {},
   "source": [
    "### Take the latest array to the power of 2 using '**'"
   ]
  },
  {
   "cell_type": "code",
   "execution_count": 75,
   "id": "76104303",
   "metadata": {},
   "outputs": [
    {
     "data": {
      "text/plain": [
       "array([[ 4,  0, 16,  0, 49],\n",
       "       [ 0,  0,  1,  1, 25],\n",
       "       [36, 16,  0,  0,  4]], dtype=int32)"
      ]
     },
     "execution_count": 75,
     "metadata": {},
     "output_type": "execute_result"
    }
   ],
   "source": [
    "randomA3 ** 2"
   ]
  },
  {
   "cell_type": "markdown",
   "id": "86bb9c4f",
   "metadata": {},
   "source": [
    "### Do the same thing with np.square()"
   ]
  },
  {
   "cell_type": "code",
   "execution_count": 76,
   "id": "9b2501ca",
   "metadata": {},
   "outputs": [
    {
     "data": {
      "text/plain": [
       "array([[ 4,  0, 16,  0, 49],\n",
       "       [ 0,  0,  1,  1, 25],\n",
       "       [36, 16,  0,  0,  4]], dtype=int32)"
      ]
     },
     "execution_count": 76,
     "metadata": {},
     "output_type": "execute_result"
    }
   ],
   "source": [
    "np.square(randomA3)"
   ]
  },
  {
   "cell_type": "markdown",
   "id": "d5eddf43",
   "metadata": {},
   "source": [
    "### Find the mean of the latest array using np.mean()"
   ]
  },
  {
   "cell_type": "code",
   "execution_count": 77,
   "id": "fdd37fc0",
   "metadata": {},
   "outputs": [
    {
     "data": {
      "text/plain": [
       "2.1333333333333333"
      ]
     },
     "execution_count": 77,
     "metadata": {},
     "output_type": "execute_result"
    }
   ],
   "source": [
    "np.mean(randomA3)"
   ]
  },
  {
   "cell_type": "markdown",
   "id": "77f6d97e",
   "metadata": {},
   "source": [
    "### Find the maximum of the latest array using np.max()"
   ]
  },
  {
   "cell_type": "code",
   "execution_count": 78,
   "id": "5f61cf5e",
   "metadata": {},
   "outputs": [
    {
     "data": {
      "text/plain": [
       "7"
      ]
     },
     "execution_count": 78,
     "metadata": {},
     "output_type": "execute_result"
    }
   ],
   "source": [
    "np.max(randomA3)"
   ]
  },
  {
   "cell_type": "markdown",
   "id": "8dc30084",
   "metadata": {},
   "source": [
    "### Find the minimum of the latest array using np.min()"
   ]
  },
  {
   "cell_type": "code",
   "execution_count": 79,
   "id": "d411b5f1",
   "metadata": {},
   "outputs": [
    {
     "data": {
      "text/plain": [
       "0"
      ]
     },
     "execution_count": 79,
     "metadata": {},
     "output_type": "execute_result"
    }
   ],
   "source": [
    "np.min(randomA3)"
   ]
  },
  {
   "cell_type": "markdown",
   "id": "2644ebab",
   "metadata": {},
   "source": [
    "### Find the standard deviation of the latest array"
   ]
  },
  {
   "cell_type": "code",
   "execution_count": 80,
   "id": "cc9e6b41",
   "metadata": {},
   "outputs": [
    {
     "data": {
      "text/plain": [
       "2.3626726862225804"
      ]
     },
     "execution_count": 80,
     "metadata": {},
     "output_type": "execute_result"
    }
   ],
   "source": [
    "np.std(randomA3)"
   ]
  },
  {
   "cell_type": "markdown",
   "id": "47a89537",
   "metadata": {},
   "source": [
    "### Find the variance of the latest array"
   ]
  },
  {
   "cell_type": "code",
   "execution_count": 81,
   "id": "9ec518ef",
   "metadata": {},
   "outputs": [
    {
     "data": {
      "text/plain": [
       "5.5822222222222235"
      ]
     },
     "execution_count": 81,
     "metadata": {},
     "output_type": "execute_result"
    }
   ],
   "source": [
    "np.var(randomA3)"
   ]
  },
  {
   "cell_type": "markdown",
   "id": "9112a0f6",
   "metadata": {},
   "source": [
    "### Reshape the latest array to (3, 5, 1)"
   ]
  },
  {
   "cell_type": "code",
   "execution_count": 82,
   "id": "c01c7634",
   "metadata": {},
   "outputs": [
    {
     "data": {
      "text/plain": [
       "array([[[2],\n",
       "        [0],\n",
       "        [4],\n",
       "        [0],\n",
       "        [7]],\n",
       "\n",
       "       [[0],\n",
       "        [0],\n",
       "        [1],\n",
       "        [1],\n",
       "        [5]],\n",
       "\n",
       "       [[6],\n",
       "        [4],\n",
       "        [0],\n",
       "        [0],\n",
       "        [2]]])"
      ]
     },
     "execution_count": 82,
     "metadata": {},
     "output_type": "execute_result"
    }
   ],
   "source": [
    "np.reshape(randomA3, (3, 5, 1))"
   ]
  },
  {
   "cell_type": "markdown",
   "id": "943b7dc2",
   "metadata": {},
   "source": [
    "### Transpose the latest array"
   ]
  },
  {
   "cell_type": "code",
   "execution_count": 83,
   "id": "b9a94451",
   "metadata": {},
   "outputs": [
    {
     "data": {
      "text/plain": [
       "array([[2, 0, 6],\n",
       "       [0, 0, 4],\n",
       "       [4, 1, 0],\n",
       "       [0, 1, 0],\n",
       "       [7, 5, 2]])"
      ]
     },
     "execution_count": 83,
     "metadata": {},
     "output_type": "execute_result"
    }
   ],
   "source": [
    "np.transpose(randomA3)"
   ]
  },
  {
   "cell_type": "markdown",
   "id": "ccf73f91",
   "metadata": {},
   "source": [
    "### Create two arrays of random integers between 0 to 10 one of size (3, 3) the other of size (3, 2)"
   ]
  },
  {
   "cell_type": "code",
   "execution_count": 85,
   "id": "881f1168",
   "metadata": {},
   "outputs": [
    {
     "data": {
      "text/plain": [
       "(array([[5, 7, 4],\n",
       "        [3, 1, 5],\n",
       "        [5, 0, 8]]),\n",
       " array([[5, 2],\n",
       "        [3, 3],\n",
       "        [2, 9]]))"
      ]
     },
     "execution_count": 85,
     "metadata": {},
     "output_type": "execute_result"
    }
   ],
   "source": [
    "randomA4 = np.random.randint(0, 10, size = (3, 3))\n",
    "randomA5 = np.random.randint(0, 10, size = (3, 2))\n",
    "randomA4, randomA5"
   ]
  },
  {
   "cell_type": "markdown",
   "id": "d97acf99",
   "metadata": {},
   "source": [
    "### Perform a dot product on the two newest arrays you created"
   ]
  },
  {
   "cell_type": "code",
   "execution_count": 86,
   "id": "b4bbd3e5",
   "metadata": {},
   "outputs": [
    {
     "data": {
      "text/plain": [
       "array([[54, 67],\n",
       "       [28, 54],\n",
       "       [41, 82]])"
      ]
     },
     "execution_count": 86,
     "metadata": {},
     "output_type": "execute_result"
    }
   ],
   "source": [
    "np.dot(randomA4, randomA5)"
   ]
  },
  {
   "cell_type": "markdown",
   "id": "f1e2164d",
   "metadata": {},
   "source": [
    "### Create two arrays of random integers between 0 to 10 both of size (4, 3)"
   ]
  },
  {
   "cell_type": "code",
   "execution_count": 87,
   "id": "33e17c4a",
   "metadata": {},
   "outputs": [
    {
     "data": {
      "text/plain": [
       "(array([[2, 2, 3],\n",
       "        [6, 3, 8],\n",
       "        [0, 7, 6],\n",
       "        [1, 7, 0]]),\n",
       " array([[8, 8, 1],\n",
       "        [6, 9, 2],\n",
       "        [6, 9, 8],\n",
       "        [3, 0, 1]]))"
      ]
     },
     "execution_count": 87,
     "metadata": {},
     "output_type": "execute_result"
    }
   ],
   "source": [
    "randomA6 = np.random.randint(0, 10, size = (4, 3))\n",
    "randomA7 = np.random.randint(0, 10, size = (4, 3))\n",
    "randomA6, randomA7"
   ]
  },
  {
   "cell_type": "markdown",
   "id": "fe773159",
   "metadata": {},
   "source": [
    "### Perform a dot product on the two newest arrays you created"
   ]
  },
  {
   "cell_type": "code",
   "execution_count": 88,
   "id": "bd51b55d",
   "metadata": {},
   "outputs": [
    {
     "ename": "ValueError",
     "evalue": "shapes (4,3) and (4,3) not aligned: 3 (dim 1) != 4 (dim 0)",
     "output_type": "error",
     "traceback": [
      "\u001b[1;31m---------------------------------------------------------------------------\u001b[0m",
      "\u001b[1;31mValueError\u001b[0m                                Traceback (most recent call last)",
      "\u001b[1;32mC:\\Users\\SHAHAD~1\\AppData\\Local\\Temp/ipykernel_6808/4158299915.py\u001b[0m in \u001b[0;36m<module>\u001b[1;34m\u001b[0m\n\u001b[1;32m----> 1\u001b[1;33m \u001b[0mnp\u001b[0m\u001b[1;33m.\u001b[0m\u001b[0mdot\u001b[0m\u001b[1;33m(\u001b[0m\u001b[0mrandomA6\u001b[0m\u001b[1;33m,\u001b[0m \u001b[0mrandomA7\u001b[0m\u001b[1;33m)\u001b[0m\u001b[1;33m\u001b[0m\u001b[1;33m\u001b[0m\u001b[0m\n\u001b[0m",
      "\u001b[1;32m<__array_function__ internals>\u001b[0m in \u001b[0;36mdot\u001b[1;34m(*args, **kwargs)\u001b[0m\n",
      "\u001b[1;31mValueError\u001b[0m: shapes (4,3) and (4,3) not aligned: 3 (dim 1) != 4 (dim 0)"
     ]
    }
   ],
   "source": [
    "np.dot(randomA6, randomA7)"
   ]
  },
  {
   "cell_type": "markdown",
   "id": "49a0f323",
   "metadata": {},
   "source": [
    "##### Why didn't it work? Can you think of a solution?\n",
    "1. shapes (4,3) and (4,3) not aligned: 3 (dim 1) != 4 (dim 0)"
   ]
  },
  {
   "cell_type": "markdown",
   "id": "ac2abfb5",
   "metadata": {},
   "source": [
    "### Take the latest two arrays, perform a transpose on one of them and then perform a dot product on them both"
   ]
  },
  {
   "cell_type": "code",
   "execution_count": 110,
   "id": "f01840de",
   "metadata": {},
   "outputs": [
    {
     "data": {
      "text/plain": [
       "array([[ 55,  70,  15],\n",
       "       [ 97, 106,  71],\n",
       "       [108, 150,  67]])"
      ]
     },
     "execution_count": 110,
     "metadata": {},
     "output_type": "execute_result"
    }
   ],
   "source": [
    "randomA6 = np.transpose(randomA6)\n",
    "np.dot(randomA6, randomA7)"
   ]
  },
  {
   "cell_type": "markdown",
   "id": "2228daf5",
   "metadata": {},
   "source": [
    "### Create two arrays of random integers between 0 & 10 of the same shape"
   ]
  },
  {
   "cell_type": "code",
   "execution_count": 97,
   "id": "db690cf4",
   "metadata": {},
   "outputs": [
    {
     "data": {
      "text/plain": [
       "(array([[3, 7, 5],\n",
       "        [7, 0, 7],\n",
       "        [3, 0, 7]]),\n",
       " array([[3, 5, 7],\n",
       "        [3, 2, 8],\n",
       "        [2, 8, 1]]))"
      ]
     },
     "execution_count": 97,
     "metadata": {},
     "output_type": "execute_result"
    }
   ],
   "source": [
    "randomA8 = np.random.randint(0, 10, size = (3, 3))\n",
    "randomA9 = np.random.randint(0, 10, size = (3, 3))\n",
    "randomA8, randomA9"
   ]
  },
  {
   "cell_type": "markdown",
   "id": "acc33be7",
   "metadata": {},
   "source": [
    "### Compare the two arrays with '>'"
   ]
  },
  {
   "cell_type": "code",
   "execution_count": 98,
   "id": "e915c877",
   "metadata": {},
   "outputs": [
    {
     "data": {
      "text/plain": [
       "array([[False,  True, False],\n",
       "       [ True, False, False],\n",
       "       [ True, False,  True]])"
      ]
     },
     "execution_count": 98,
     "metadata": {},
     "output_type": "execute_result"
    }
   ],
   "source": [
    "randomA8 > randomA9"
   ]
  },
  {
   "cell_type": "markdown",
   "id": "250ef98e",
   "metadata": {},
   "source": [
    "### Compare the two arrays with '>='"
   ]
  },
  {
   "cell_type": "code",
   "execution_count": 99,
   "id": "6d66227e",
   "metadata": {},
   "outputs": [
    {
     "data": {
      "text/plain": [
       "array([[ True,  True, False],\n",
       "       [ True, False, False],\n",
       "       [ True, False,  True]])"
      ]
     },
     "execution_count": 99,
     "metadata": {},
     "output_type": "execute_result"
    }
   ],
   "source": [
    "randomA8 >= randomA9"
   ]
  },
  {
   "cell_type": "markdown",
   "id": "b4fc82a1",
   "metadata": {},
   "source": [
    "### Find which elements of the first array are greater than 7"
   ]
  },
  {
   "cell_type": "code",
   "execution_count": 105,
   "id": "cb02ef39",
   "metadata": {},
   "outputs": [
    {
     "data": {
      "text/plain": [
       "array([[False, False, False],\n",
       "       [False, False, False],\n",
       "       [False, False, False]])"
      ]
     },
     "execution_count": 105,
     "metadata": {},
     "output_type": "execute_result"
    }
   ],
   "source": [
    "randomA8 > 7"
   ]
  },
  {
   "cell_type": "markdown",
   "id": "879f8ba4",
   "metadata": {},
   "source": [
    "### Which parts of each array are equal? (try using '==')"
   ]
  },
  {
   "cell_type": "code",
   "execution_count": 101,
   "id": "6dbe3ed4",
   "metadata": {},
   "outputs": [
    {
     "data": {
      "text/plain": [
       "array([[ True, False, False],\n",
       "       [False, False, False],\n",
       "       [False, False, False]])"
      ]
     },
     "execution_count": 101,
     "metadata": {},
     "output_type": "execute_result"
    }
   ],
   "source": [
    "randomA8 == randomA9"
   ]
  },
  {
   "cell_type": "markdown",
   "id": "d12c3d38",
   "metadata": {},
   "source": [
    "### Sort one of the arrays you just created in ascending order"
   ]
  },
  {
   "cell_type": "code",
   "execution_count": 102,
   "id": "1b7484cb",
   "metadata": {},
   "outputs": [
    {
     "data": {
      "text/plain": [
       "array([[3, 5, 7],\n",
       "       [2, 3, 8],\n",
       "       [1, 2, 8]])"
      ]
     },
     "execution_count": 102,
     "metadata": {},
     "output_type": "execute_result"
    }
   ],
   "source": [
    "np.sort(randomA9)"
   ]
  },
  {
   "cell_type": "markdown",
   "id": "94de3e20",
   "metadata": {},
   "source": [
    "### Sort the indexes of one of the arrays you just created"
   ]
  },
  {
   "cell_type": "code",
   "execution_count": 103,
   "id": "2501d8f0",
   "metadata": {},
   "outputs": [
    {
     "data": {
      "text/plain": [
       "array([[0, 1, 2],\n",
       "       [1, 0, 2],\n",
       "       [2, 0, 1]], dtype=int64)"
      ]
     },
     "execution_count": 103,
     "metadata": {},
     "output_type": "execute_result"
    }
   ],
   "source": [
    "np.argsort(randomA9)"
   ]
  },
  {
   "cell_type": "markdown",
   "id": "93262b6d",
   "metadata": {},
   "source": [
    "### Find the index with the maximum value in one of the arrays you've created"
   ]
  },
  {
   "cell_type": "code",
   "execution_count": 104,
   "id": "3dea0466",
   "metadata": {},
   "outputs": [
    {
     "data": {
      "text/plain": [
       "5"
      ]
     },
     "execution_count": 104,
     "metadata": {},
     "output_type": "execute_result"
    }
   ],
   "source": [
    "np.argmax(randomA9)"
   ]
  },
  {
   "cell_type": "markdown",
   "id": "e87196bd",
   "metadata": {},
   "source": [
    "### Find the index with the minimum value in one of the arrays you've created"
   ]
  },
  {
   "cell_type": "code",
   "execution_count": 106,
   "id": "3df57ffd",
   "metadata": {},
   "outputs": [
    {
     "data": {
      "text/plain": [
       "8"
      ]
     },
     "execution_count": 106,
     "metadata": {},
     "output_type": "execute_result"
    }
   ],
   "source": [
    "np.argmin(randomA9)"
   ]
  },
  {
   "cell_type": "markdown",
   "id": "9417e2ad",
   "metadata": {},
   "source": [
    "### Find the indexes with the maximum values down the 1st axis (axis=1) of one of the arrays you created"
   ]
  },
  {
   "cell_type": "code",
   "execution_count": 107,
   "id": "b7b876c1",
   "metadata": {},
   "outputs": [
    {
     "data": {
      "text/plain": [
       "array([2, 2, 1], dtype=int64)"
      ]
     },
     "execution_count": 107,
     "metadata": {},
     "output_type": "execute_result"
    }
   ],
   "source": [
    "np.argmax(randomA9, axis = 1)"
   ]
  },
  {
   "cell_type": "markdown",
   "id": "685a2882",
   "metadata": {},
   "source": [
    "### Find the indexes with the minimum values across the 0th axis (axis=0) of one of the arrays you created"
   ]
  },
  {
   "cell_type": "code",
   "execution_count": 108,
   "id": "56824de9",
   "metadata": {},
   "outputs": [
    {
     "data": {
      "text/plain": [
       "array([2, 1, 2], dtype=int64)"
      ]
     },
     "execution_count": 108,
     "metadata": {},
     "output_type": "execute_result"
    }
   ],
   "source": [
    "np.argmin(randomA9, axis = 0)"
   ]
  },
  {
   "cell_type": "markdown",
   "id": "0b6453bb",
   "metadata": {},
   "source": [
    "### Create an array of normally distributed random numbers"
   ]
  },
  {
   "cell_type": "code",
   "execution_count": 111,
   "id": "aba5bde2",
   "metadata": {},
   "outputs": [
    {
     "data": {
      "text/plain": [
       "array([[[81, 65, 53, 34, 79],\n",
       "        [60, 40, 99, 32, 67],\n",
       "        [32, 13, 20, 47, 19],\n",
       "        [ 7,  6, 66, 16, 32],\n",
       "        [47, 75, 58, 85, 21]],\n",
       "\n",
       "       [[29, 37, 50, 53,  7],\n",
       "        [26, 26, 97, 20, 29],\n",
       "        [96, 27, 63, 96, 68],\n",
       "        [60, 47, 18,  3, 34],\n",
       "        [63, 48, 16, 43, 91]],\n",
       "\n",
       "       [[29, 92, 45,  5, 98],\n",
       "        [36, 23, 92, 45, 52],\n",
       "        [94, 98, 59, 96, 62],\n",
       "        [84, 31, 86, 32, 66],\n",
       "        [17, 24, 94, 53, 57]]])"
      ]
     },
     "execution_count": 111,
     "metadata": {},
     "output_type": "execute_result"
    }
   ],
   "source": [
    "array = np.random.randint(0, 100, size = (3, 5, 5))\n",
    "array"
   ]
  },
  {
   "cell_type": "markdown",
   "id": "4f09e91a",
   "metadata": {},
   "source": [
    "### Create an array with 10 evenly spaced numbers between 1 and 100"
   ]
  },
  {
   "cell_type": "code",
   "execution_count": 112,
   "id": "e5a1d237",
   "metadata": {},
   "outputs": [
    {
     "data": {
      "text/plain": [
       "array([ 0, 10, 20, 30, 40, 50, 60, 70, 80, 90])"
      ]
     },
     "execution_count": 112,
     "metadata": {},
     "output_type": "execute_result"
    }
   ],
   "source": [
    "array = np.arange(0, 100, 10)\n",
    "array"
   ]
  }
 ],
 "metadata": {
  "kernelspec": {
   "display_name": "Python 3 (ipykernel)",
   "language": "python",
   "name": "python3"
  },
  "language_info": {
   "codemirror_mode": {
    "name": "ipython",
    "version": 3
   },
   "file_extension": ".py",
   "mimetype": "text/x-python",
   "name": "python",
   "nbconvert_exporter": "python",
   "pygments_lexer": "ipython3",
   "version": "3.9.7"
  }
 },
 "nbformat": 4,
 "nbformat_minor": 5
}
